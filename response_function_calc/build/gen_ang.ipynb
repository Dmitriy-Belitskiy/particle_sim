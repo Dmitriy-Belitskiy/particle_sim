{
 "cells": [
  {
   "cell_type": "code",
   "execution_count": 6,
   "id": "0527f72e",
   "metadata": {},
   "outputs": [],
   "source": [
    "import numpy as np"
   ]
  },
  {
   "cell_type": "code",
   "execution_count": 7,
   "id": "ab7ffe6d",
   "metadata": {},
   "outputs": [],
   "source": [
    "data=np.loadtxt(\"lines.txt\")"
   ]
  },
  {
   "cell_type": "code",
   "execution_count": 8,
   "id": "bf2c773a",
   "metadata": {},
   "outputs": [],
   "source": [
    "mask=data[:,0]==0\n",
    "data_test=data[mask]\n"
   ]
  },
  {
   "cell_type": "code",
   "execution_count": 9,
   "id": "a7fea0ee",
   "metadata": {},
   "outputs": [],
   "source": [
    "intencities = data_test[:,2]/np.sum(data_test[:,2])\n"
   ]
  },
  {
   "cell_type": "code",
   "execution_count": 10,
   "id": "75729f29",
   "metadata": {},
   "outputs": [
    {
     "data": {
      "text/plain": [
       "np.float64(1.0000000000000002)"
      ]
     },
     "execution_count": 10,
     "metadata": {},
     "output_type": "execute_result"
    }
   ],
   "source": [
    "np.sum(intencities)"
   ]
  },
  {
   "cell_type": "code",
   "execution_count": 11,
   "id": "039f542c",
   "metadata": {},
   "outputs": [],
   "source": [
    "dat=np.vstack((data_test[:,1],intencities)).T"
   ]
  },
  {
   "cell_type": "code",
   "execution_count": 12,
   "id": "d2113273",
   "metadata": {},
   "outputs": [],
   "source": [
    "def generate_macro_file(filename=\"jopa_v1.mac\"):\n",
    "    with open(filename, \"w\") as f:\n",
    "        # Write the initial part of the macro\n",
    "        f.write(\"\"\"/control/verbose 0\n",
    "        /run/verbose 0\n",
    "        /event/verbose 0\n",
    "        /tracking/verbose 0\n",
    "        /run/printProgress 1000\n",
    "        /run/initialize\n",
    "        /gps/source/clear\n",
    "        \n",
    "        /B5/detector/setPositionX 0\n",
    "        /B5/detector/setPositionY -1\n",
    "        /B5/detector/setPositionZ 0\n",
    "\n",
    "        \"\"\")\n",
    "        \n",
    "        for i,j in dat:\n",
    "            f.write(\"\"\"       \n",
    "            /gps/source/add 1\n",
    "            /gps/pos/type Plane\n",
    "            /gps/pos/shape Square\n",
    "            /gps/pos/centre 0 -2 0 m\n",
    "            /gps/pos/halfx 0.004 m\n",
    "            /gps/pos/halfy 0.02 m\n",
    "            /gps/pos/rot1 1 0 0\n",
    "            /gps/pos/rot2 0 0 -1\n",
    "\n",
    "            /gps/direction 0 1 0\n",
    "            /gps/particle gamma\n",
    "            /gps/ene/type Mono\n",
    "            /gps/ene/mono {} MeV\n",
    "            /gps/source/intensity {}\n",
    "            \"\"\".format(i/1000,j))\n",
    "        \n",
    "        f.write(\"/run/beamOn 10000\")\n",
    "        \n",
    "        print('done')\n",
    "        "
   ]
  },
  {
   "cell_type": "code",
   "execution_count": 13,
   "id": "e57e7d5b",
   "metadata": {},
   "outputs": [
    {
     "name": "stdout",
     "output_type": "stream",
     "text": [
      "done\n"
     ]
    }
   ],
   "source": [
    "generate_macro_file()"
   ]
  },
  {
   "cell_type": "code",
   "execution_count": null,
   "id": "9e0772b1",
   "metadata": {},
   "outputs": [],
   "source": []
  },
  {
   "cell_type": "code",
   "execution_count": null,
   "id": "a47b9133",
   "metadata": {},
   "outputs": [],
   "source": []
  },
  {
   "cell_type": "code",
   "execution_count": null,
   "id": "c9e00b7e",
   "metadata": {},
   "outputs": [],
   "source": []
  }
 ],
 "metadata": {
  "kernelspec": {
   "display_name": "uproot310",
   "language": "python",
   "name": "uproot310"
  },
  "language_info": {
   "codemirror_mode": {
    "name": "ipython",
    "version": 3
   },
   "file_extension": ".py",
   "mimetype": "text/x-python",
   "name": "python",
   "nbconvert_exporter": "python",
   "pygments_lexer": "ipython3",
   "version": "3.10.13"
  }
 },
 "nbformat": 4,
 "nbformat_minor": 5
}
