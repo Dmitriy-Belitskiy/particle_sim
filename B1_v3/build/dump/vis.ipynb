{
 "cells": [
  {
   "cell_type": "code",
   "execution_count": 64,
   "id": "3c941b36",
   "metadata": {},
   "outputs": [],
   "source": [
    "import numpy as np\n",
    "import matplotlib.pyplot as plt\n",
    "import uproot\n",
    "from concurrent.futures import ThreadPoolExecutor\n",
    "import os\n",
    "import glob\n",
    "import re\n",
    "from tqdm import tqdm\n",
    "import imageio\n",
    "\n",
    "import matplotlib.animation as animation"
   ]
  },
  {
   "cell_type": "code",
   "execution_count": 37,
   "id": "881ef6d8",
   "metadata": {},
   "outputs": [],
   "source": [
    "\n",
    "files=glob.glob(\"./*root\")\n",
    "\n",
    "\n",
    "sorted_files = sorted(files, key=lambda x: int(re.search(r'\\d+', x).group()))\n"
   ]
  },
  {
   "cell_type": "code",
   "execution_count": 38,
   "id": "097e9f46",
   "metadata": {},
   "outputs": [],
   "source": [
    "dump=[]\n",
    "labels=[]\n",
    "for file in sorted_files:\n",
    "    labels.append(file)\n",
    "    workers=8\n",
    "\n",
    "    decompression_executor = ThreadPoolExecutor(max_workers=workers)\n",
    "    interpretation_executor = ThreadPoolExecutor(max_workers=workers)\n",
    "\n",
    "\n",
    "    with uproot.open(file) as file:\n",
    "        tree = file['B4;1']\n",
    "        braunches=['Edep']\n",
    "        dump.append(tree.arrays( braunches,library=\"np\", \n",
    "            decompression_executor=decompression_executor, \n",
    "            interpretation_executor=interpretation_executor)['Edep'])\n",
    "\n",
    "    \n",
    "    "
   ]
  },
  {
   "cell_type": "code",
   "execution_count": 59,
   "id": "934ea958",
   "metadata": {},
   "outputs": [
    {
     "name": "stderr",
     "output_type": "stream",
     "text": [
      "50it [00:23,  2.12it/s]\n"
     ]
    },
    {
     "data": {
      "image/png": "[encoded data removed]",
      "text/plain": [
       "<Figure size 1000x500 with 1 Axes>"
      ]
     },
     "metadata": {},
     "output_type": "display_data"
    }
   ],
   "source": [
    "num=0\n",
    "for i,j in tqdm(zip(dump,labels)):\n",
    "    \n",
    "    plt.close()\n",
    "    plt.figure(figsize=(10,5))\n",
    "    plt.grid(True)\n",
    "    plt.hist(i,bins=np.linspace(0,700,200),label=j)\n",
    "    plt.legend()\n",
    "    \n",
    "    plt.yscale('log')\n",
    "    plt.ylim(1,5.e3)\n",
    "    plt.savefig('../images/{}.png'.format(num))\n",
    "    \n",
    "    num=num+1"
   ]
  },
  {
   "cell_type": "code",
   "execution_count": 61,
   "id": "e9bf6485",
   "metadata": {},
   "outputs": [],
   "source": [
    "files=glob.glob(\"../images/*.png\")\n",
    "\n",
    "\n",
    "sorted_files = sorted(files, key=lambda x: int(re.search(r'\\d+', x).group()))\n"
   ]
  },
  {
   "cell_type": "code",
   "execution_count": 62,
   "id": "fe1b69dc",
   "metadata": {},
   "outputs": [
    {
     "data": {
      "text/plain": [
       "['../images/0.png',\n",
       " '../images/1.png',\n",
       " '../images/2.png',\n",
       " '../images/3.png',\n",
       " '../images/4.png',\n",
       " '../images/5.png',\n",
       " '../images/6.png',\n",
       " '../images/7.png',\n",
       " '../images/8.png',\n",
       " '../images/9.png',\n",
       " '../images/10.png',\n",
       " '../images/11.png',\n",
       " '../images/12.png',\n",
       " '../images/13.png',\n",
       " '../images/14.png',\n",
       " '../images/15.png',\n",
       " '../images/16.png',\n",
       " '../images/17.png',\n",
       " '../images/18.png',\n",
       " '../images/19.png',\n",
       " '../images/20.png',\n",
       " '../images/21.png',\n",
       " '../images/22.png',\n",
       " '../images/23.png',\n",
       " '../images/24.png',\n",
       " '../images/25.png',\n",
       " '../images/26.png',\n",
       " '../images/27.png',\n",
       " '../images/28.png',\n",
       " '../images/29.png',\n",
       " '../images/30.png',\n",
       " '../images/31.png',\n",
       " '../images/32.png',\n",
       " '../images/33.png',\n",
       " '../images/34.png',\n",
       " '../images/35.png',\n",
       " '../images/36.png',\n",
       " '../images/37.png',\n",
       " '../images/38.png',\n",
       " '../images/39.png',\n",
       " '../images/40.png',\n",
       " '../images/41.png',\n",
       " '../images/42.png',\n",
       " '../images/43.png',\n",
       " '../images/44.png',\n",
       " '../images/45.png',\n",
       " '../images/46.png',\n",
       " '../images/47.png',\n",
       " '../images/48.png',\n",
       " '../images/49.png']"
      ]
     },
     "execution_count": 62,
     "metadata": {},
     "output_type": "execute_result"
    }
   ],
   "source": [
    "sorted_files"
   ]
  },
  {
   "cell_type": "code",
   "execution_count": 65,
   "id": "da3b6613",
   "metadata": {},
   "outputs": [
    {
     "name": "stderr",
     "output_type": "stream",
     "text": [
      "/tmp/ipykernel_92877/3343610531.py:3: DeprecationWarning: Starting with ImageIO v3 the behavior of this function will switch to that of iio.v3.imread. To keep the current behavior (and make this warning disappear) use `import imageio.v2 as imageio` or call `imageio.v2.imread` directly.\n",
      "  image = imageio.imread(filename)\n"
     ]
    }
   ],
   "source": [
    "with imageio.get_writer('animated_plot.gif', mode='I', duration=0.1) as writer:\n",
    "    for filename in sorted_files:\n",
    "        image = imageio.imread(filename)\n",
    "        writer.append_data(image)"
   ]
  },
  {
   "cell_type": "code",
   "execution_count": null,
   "id": "68011c6f",
   "metadata": {},
   "outputs": [],
   "source": []
  }
 ],
 "metadata": {
  "kernelspec": {
   "display_name": "uproot310",
   "language": "python",
   "name": "uproot310"
  },
  "language_info": {
   "codemirror_mode": {
    "name": "ipython",
    "version": 3
   },
   "file_extension": ".py",
   "mimetype": "text/x-python",
   "name": "python",
   "nbconvert_exporter": "python",
   "pygments_lexer": "ipython3",
   "version": "3.10.13"
  }
 },
 "nbformat": 4,
 "nbformat_minor": 5
}
