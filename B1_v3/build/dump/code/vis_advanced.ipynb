{
 "cells": [
  {
   "cell_type": "code",
   "execution_count": 1,
   "id": "3c941b36",
   "metadata": {},
   "outputs": [],
   "source": [
    "import numpy as np\n",
    "import matplotlib.pyplot as plt\n",
    "import uproot\n",
    "from concurrent.futures import ThreadPoolExecutor\n",
    "import os\n",
    "import glob\n",
    "import re\n",
    "from tqdm import tqdm\n",
    "import imageio\n",
    "\n",
    "import matplotlib.animation as animation"
   ]
  },
  {
   "cell_type": "code",
   "execution_count": 2,
   "id": "881ef6d8",
   "metadata": {},
   "outputs": [],
   "source": [
    "\n",
    "files=glob.glob(\"./*root\")\n",
    "\n",
    "\n",
    "sorted_files = sorted(files, key=lambda x: int(re.search(r'\\d+', x).group()))\n"
   ]
  },
  {
   "cell_type": "code",
   "execution_count": 3,
   "id": "097e9f46",
   "metadata": {},
   "outputs": [],
   "source": [
    "dump=[]\n",
    "labels=[]\n",
    "for file in sorted_files:\n",
    "    labels.append(file)\n",
    "    workers=8\n",
    "\n",
    "    decompression_executor = ThreadPoolExecutor(max_workers=workers)\n",
    "    interpretation_executor = ThreadPoolExecutor(max_workers=workers)\n",
    "\n",
    "\n",
    "    with uproot.open(file) as file:\n",
    "        tree = file['B4;1']\n",
    "        braunches=['Edep']\n",
    "        dump.append(tree.arrays( braunches,library=\"np\", \n",
    "            decompression_executor=decompression_executor, \n",
    "            interpretation_executor=interpretation_executor)['Edep'])\n",
    "\n",
    "    \n",
    "    "
   ]
  },
  {
   "cell_type": "code",
   "execution_count": 4,
   "id": "934ea958",
   "metadata": {},
   "outputs": [],
   "source": [
    "# num=0\n",
    "# for i,j in tqdm(zip(dump,labels)):\n",
    "    \n",
    "    \n",
    "#     plt.figure(figsize=(10,5))\n",
    "#     plt.grid(True)\n",
    "#     plt.hist(i,bins=np.linspace(0,700,700),label=j)\n",
    "#     plt.legend()\n",
    "    \n",
    "#     plt.yscale('log')\n",
    "#     plt.ylim(1,5.e3)\n",
    "#     plt.savefig('../images/{}.png'.format(num))\n",
    "#     plt.close()\n",
    "#     num=num+1"
   ]
  },
  {
   "cell_type": "code",
   "execution_count": 5,
   "id": "e9bf6485",
   "metadata": {},
   "outputs": [],
   "source": [
    "# files=glob.glob(\"../images/*.png\")\n",
    "\n",
    "\n",
    "# sorted_files = sorted(files, key=lambda x: int(re.search(r'\\d+', x).group()))\n",
    "\n",
    "# with imageio.get_writer('animated_plot.gif', mode='I', duration=0.1) as writer:\n",
    "#     for filename in sorted_files:\n",
    "#         image = imageio.imread(filename)\n",
    "#         writer.append_data(image)"
   ]
  },
  {
   "cell_type": "code",
   "execution_count": 6,
   "id": "68011c6f",
   "metadata": {},
   "outputs": [],
   "source": [
    "counts=[]\n",
    "for i in dump:\n",
    "    counts.append(np.histogram(i,bins=[660,665])[0])"
   ]
  },
  {
   "cell_type": "code",
   "execution_count": 7,
   "id": "5fecbfd2",
   "metadata": {},
   "outputs": [
    {
     "data": {
      "text/plain": [
       "(0.0, 3387.7)"
      ]
     },
     "execution_count": 7,
     "metadata": {},
     "output_type": "execute_result"
    },
    {
     "data": {
      "image/png": "[encoded data removed]",
      "text/plain": [
       "<Figure size 640x480 with 1 Axes>"
      ]
     },
     "metadata": {},
     "output_type": "display_data"
    }
   ],
   "source": [
    "plt.plot(counts)\n",
    "plt.grid(True)\n",
    "plt.ylim(bottom=0) "
   ]
  },
  {
   "cell_type": "code",
   "execution_count": 18,
   "id": "bc33a4e5",
   "metadata": {},
   "outputs": [],
   "source": [
    "dist=np.linspace(-4,4,50)\n",
    "h=3.7\n",
    "\n",
    "alpha=np.arctan(dist/h)\n",
    "l1=37.8\n",
    "\n",
    "l2=7.56\n",
    "\n",
    "max_alpha=np.arctan(l2/l1)\n",
    "μ_NaI = 0.03 # mm-1,\n",
    "\n",
    "comp1=(l1*abs(np.sin(alpha))+l2*abs(np.sin(np.pi/2-alpha)))\n",
    "comp2=1/(dist**2+h**2)\n",
    "\n",
    "\n",
    "\n",
    "\n",
    "\n",
    "\n",
    "sin_list=abs(np.sin(alpha))\n",
    "             \n",
    "\n",
    "sin_list[sin_list<=np.sin(max_alpha)]=np.sin(max_alpha)\n",
    "\n",
    "dist_d=(l2/sin_list)\n",
    "\n",
    "#comp3=1-np.exp(-μ_NaI*dist_d)\n",
    "\n",
    "μ_air=1e-5\n",
    "comp4=np.exp(-μ_air*np.sqrt(dist**2+h**2)*1000)"
   ]
  },
  {
   "cell_type": "code",
   "execution_count": 19,
   "id": "c42a6056",
   "metadata": {},
   "outputs": [],
   "source": [
    "def calculate_mu_angle(ang,step):\n",
    "    N=100000\n",
    "    a=np.random.rand(N)\n",
    "    b=np.random.rand(N)\n",
    "    points=np.vstack((a,b)).T\n",
    "\n",
    "\n",
    "    points_ractangle=np.zeros_like(points)\n",
    "    points_ractangle[:,0]=points[:,0]*l2\n",
    "    points_ractangle[:,1]=points[:,1]*l1\n",
    "\n",
    "\n",
    "    #ax = plt.gca()\n",
    "    #ax.set_aspect('equal', adjustable='box')\n",
    "\n",
    "    #plt.scatter(points_ractangle[:,0],points_ractangle[:,1],s=0.1)\n",
    "\n",
    "\n",
    "    #ang=np.pi/16\n",
    "\n",
    "    R=np.array([[np.cos(ang),-np.sin(ang)],\n",
    "      [np.sin(ang),np.cos(ang)]])\n",
    "\n",
    "\n",
    "    points_rac_rot=np.dot(R,points_ractangle.T).T\n",
    "\n",
    "\n",
    "\n",
    "\n",
    "\n",
    "    xmin=np.min(points_rac_rot[:,0])\n",
    "    xmax=np.max(points_rac_rot[:,0])\n",
    "    step=l2/40\n",
    "\n",
    "    steps=np.arange(xmin,xmax,step)\n",
    "    \n",
    "    area=len(steps)\n",
    "    bounds=np.vstack((steps[:-1],steps[1:])).T\n",
    "\n",
    "    points_b_count=[]\n",
    "    for i in bounds:\n",
    "        points_b_count.append(np.count_nonzero(np.logical_and(points_rac_rot[:,0]>i[0],points_rac_rot[:,0]<i[1])))\n",
    "    points_b_count=np.array(points_b_count)\n",
    "    S_g=l1*l2\n",
    "    density=N/S_g\n",
    "    S=points_b_count/density\n",
    "    d=S/step\n",
    "    return(d,area)\n",
    "\n",
    "\n",
    "# plt.scatter(points_rac_rot[:,0],points_rac_rot[:,1],s=0.1)\n",
    "# ax = plt.gca()\n",
    "# ax.set_aspect('equal', adjustable='box')"
   ]
  },
  {
   "cell_type": "code",
   "execution_count": 20,
   "id": "41b6d93d",
   "metadata": {},
   "outputs": [
    {
     "name": "stderr",
     "output_type": "stream",
     "text": [
      "100%|███████████████████████████████████████████████████████| 50/50 [00:01<00:00, 30.51it/s]\n"
     ]
    }
   ],
   "source": [
    "step=l2/40\n",
    "\n",
    "comp5=[]\n",
    "for i in tqdm(alpha):\n",
    "    d,_=calculate_mu_angle(i,step)\n",
    "\n",
    "    loacal_m = 1-np.exp(-μ_NaI*d)\n",
    "    comp5.append(np.average(loacal_m))"
   ]
  },
  {
   "cell_type": "code",
   "execution_count": 21,
   "id": "3d0e3f01",
   "metadata": {},
   "outputs": [
    {
     "data": {
      "text/plain": [
       "(0.0, 0.42747896001892693)"
      ]
     },
     "execution_count": 21,
     "metadata": {},
     "output_type": "execute_result"
    },
    {
     "data": {
      "image/png": "[encoded data removed]",
      "text/plain": [
       "<Figure size 640x480 with 1 Axes>"
      ]
     },
     "metadata": {},
     "output_type": "display_data"
    }
   ],
   "source": [
    "plt.plot(comp1*comp2*comp5*comp4)\n",
    "plt.grid(True)\n",
    "plt.ylim(bottom=0) "
   ]
  },
  {
   "cell_type": "code",
   "execution_count": null,
   "id": "d74890da",
   "metadata": {},
   "outputs": [],
   "source": []
  },
  {
   "cell_type": "code",
   "execution_count": null,
   "id": "524a4b6c",
   "metadata": {},
   "outputs": [],
   "source": []
  },
  {
   "cell_type": "code",
   "execution_count": null,
   "id": "fa6f8d80",
   "metadata": {},
   "outputs": [],
   "source": []
  },
  {
   "cell_type": "code",
   "execution_count": null,
   "id": "772c023b",
   "metadata": {},
   "outputs": [],
   "source": []
  },
  {
   "cell_type": "code",
   "execution_count": null,
   "id": "d398606c",
   "metadata": {},
   "outputs": [],
   "source": []
  },
  {
   "cell_type": "code",
   "execution_count": null,
   "id": "9f38e551",
   "metadata": {},
   "outputs": [],
   "source": []
  }
 ],
 "metadata": {
  "kernelspec": {
   "display_name": "dat_(myenv)",
   "language": "python",
   "name": "myenv"
  },
  "language_info": {
   "codemirror_mode": {
    "name": "ipython",
    "version": 3
   },
   "file_extension": ".py",
   "mimetype": "text/x-python",
   "name": "python",
   "nbconvert_exporter": "python",
   "pygments_lexer": "ipython3",
   "version": "3.10.9"
  }
 },
 "nbformat": 4,
 "nbformat_minor": 5
}
