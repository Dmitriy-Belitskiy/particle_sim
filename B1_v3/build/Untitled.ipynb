{
 "cells": [
  {
   "cell_type": "code",
   "execution_count": 1,
   "id": "94c238dd",
   "metadata": {},
   "outputs": [],
   "source": [
    "import numpy as np\n",
    "import matplotlib.pyplot as plt\n",
    "import uproot\n",
    "from concurrent.futures import ThreadPoolExecutor"
   ]
  },
  {
   "cell_type": "code",
   "execution_count": 14,
   "id": "76bfd724",
   "metadata": {},
   "outputs": [],
   "source": [
    "workers=8\n",
    "\n",
    "decompression_executor = ThreadPoolExecutor(max_workers=workers)\n",
    "interpretation_executor = ThreadPoolExecutor(max_workers=workers)\n",
    "\n",
    "\n",
    "with uproot.open(\"signal.root\") as file:\n",
    "    tree = file['B4;1']\n",
    "    braunches=['Edep']\n",
    "    a=tree.arrays( braunches,library=\"np\", \n",
    "        decompression_executor=decompression_executor, \n",
    "        interpretation_executor=interpretation_executor)['Edep']\n",
    "\n",
    "    \n"
   ]
  },
  {
   "cell_type": "code",
   "execution_count": 15,
   "id": "fb807a0d",
   "metadata": {
    "scrolled": true
   },
   "outputs": [
    {
     "name": "stdout",
     "output_type": "stream",
     "text": [
      "a\n"
     ]
    },
    {
     "data": {
      "image/png": "[encoded data removed]",
      "text/plain": [
       "<Figure size 1000x500 with 1 Axes>"
      ]
     },
     "metadata": {},
     "output_type": "display_data"
    }
   ],
   "source": [
    "plt.figure(figsize=(10,5))\n",
    "plt.grid(True)\n",
    "plt.hist(a,bins=np.linspace(0,700,100))\n",
    "plt.yscale('log')\n",
    "print('a')"
   ]
  },
  {
   "cell_type": "code",
   "execution_count": 4,
   "id": "88accbb6",
   "metadata": {},
   "outputs": [
    {
     "data": {
      "text/plain": [
       "243540"
      ]
     },
     "execution_count": 4,
     "metadata": {},
     "output_type": "execute_result"
    }
   ],
   "source": [
    "len(a)"
   ]
  },
  {
   "cell_type": "code",
   "execution_count": null,
   "id": "adeb0e4f",
   "metadata": {},
   "outputs": [],
   "source": []
  }
 ],
 "metadata": {
  "kernelspec": {
   "display_name": "uproot310",
   "language": "python",
   "name": "uproot310"
  },
  "language_info": {
   "codemirror_mode": {
    "name": "ipython",
    "version": 3
   },
   "file_extension": ".py",
   "mimetype": "text/x-python",
   "name": "python",
   "nbconvert_exporter": "python",
   "pygments_lexer": "ipython3",
   "version": "3.10.13"
  }
 },
 "nbformat": 4,
 "nbformat_minor": 5
}
