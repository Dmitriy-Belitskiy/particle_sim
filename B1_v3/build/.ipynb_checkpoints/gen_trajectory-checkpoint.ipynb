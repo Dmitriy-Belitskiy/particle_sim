{
 "cells": [
  {
   "cell_type": "code",
   "execution_count": 44,
   "id": "03b6fb28",
   "metadata": {},
   "outputs": [],
   "source": [
    "import numpy as np\n",
    "import matplotlib.pyplot as plt"
   ]
  },
  {
   "cell_type": "code",
   "execution_count": 45,
   "id": "c7aa4c41",
   "metadata": {},
   "outputs": [],
   "source": [
    "#base_comands\n",
    "aX = \"/B5/detector/setPositionX {}\"\n",
    "aY = \"/B5/detector/setPositionY {}\"\n",
    "aZ = \"/B5/detector/setPositionZ {}\"\n",
    "init=\"/run/initialize\" \n",
    "run=1000000\n",
    "shoot=\"/run/beamOn {}\""
   ]
  },
  {
   "cell_type": "code",
   "execution_count": 46,
   "id": "ec827d05",
   "metadata": {},
   "outputs": [],
   "source": [
    "Y=0\n",
    "X=0"
   ]
  },
  {
   "cell_type": "code",
   "execution_count": 47,
   "id": "e94b0eae",
   "metadata": {},
   "outputs": [],
   "source": [
    "Z= np.linspace(-4,4,50)"
   ]
  },
  {
   "cell_type": "code",
   "execution_count": 48,
   "id": "2eaf1380",
   "metadata": {},
   "outputs": [],
   "source": [
    "with open('test.mac', 'w') as f:\n",
    "\n",
    "    f.write(\"/control/verbose 0\")\n",
    "    f.write('\\n')\n",
    "    f.write(\"/run/verbose 0\")\n",
    "    f.write('\\n')\n",
    "    f.write(\"/event/verbose 0\")\n",
    "    f.write('\\n')\n",
    "    f.write(\"/tracking/verbose 0\")\n",
    "    f.write('\\n')\n",
    "    \n",
    "    \n",
    "    for i in Z:\n",
    "            \n",
    "            f.write(init)\n",
    "            f.write('\\n')\n",
    "            f.write(aX.format(X))\n",
    "            f.write('\\n')\n",
    "\n",
    "            f.write(aY.format(Y))\n",
    "            f.write('\\n')\n",
    "\n",
    "            f.write(aZ.format(i))\n",
    "            f.write('\\n')\n",
    "\n",
    "            f.write(shoot.format(run))\n",
    "            f.write('\\n')\n"
   ]
  },
  {
   "cell_type": "code",
   "execution_count": null,
   "id": "0b799439",
   "metadata": {},
   "outputs": [],
   "source": []
  },
  {
   "cell_type": "code",
   "execution_count": null,
   "id": "dc093f22",
   "metadata": {},
   "outputs": [],
   "source": []
  },
  {
   "cell_type": "code",
   "execution_count": null,
   "id": "3abdc50f",
   "metadata": {},
   "outputs": [],
   "source": []
  }
 ],
 "metadata": {
  "kernelspec": {
   "display_name": "uproot310",
   "language": "python",
   "name": "uproot310"
  },
  "language_info": {
   "codemirror_mode": {
    "name": "ipython",
    "version": 3
   },
   "file_extension": ".py",
   "mimetype": "text/x-python",
   "name": "python",
   "nbconvert_exporter": "python",
   "pygments_lexer": "ipython3",
   "version": "3.10.13"
  }
 },
 "nbformat": 4,
 "nbformat_minor": 5
}
