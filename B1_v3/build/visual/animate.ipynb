{
 "cells": [
  {
   "cell_type": "code",
   "execution_count": 1,
   "id": "591087e1",
   "metadata": {},
   "outputs": [],
   "source": [
    "import numpy as np\n",
    "import matplotlib.pyplot as plt\n",
    "import uproot\n",
    "from concurrent.futures import ThreadPoolExecutor\n",
    "import os\n",
    "import glob\n",
    "import re\n",
    "from tqdm import tqdm\n",
    "import imageio"
   ]
  },
  {
   "cell_type": "code",
   "execution_count": 4,
   "id": "5a5a77e8",
   "metadata": {},
   "outputs": [],
   "source": [
    "files=glob.glob(\"./*.png\")\n",
    "sorted_files = sorted(files, key=lambda x: int(re.search(r'\\d+', x).group()))"
   ]
  },
  {
   "cell_type": "code",
   "execution_count": 7,
   "id": "1a815244",
   "metadata": {},
   "outputs": [
    {
     "name": "stderr",
     "output_type": "stream",
     "text": [
      "/tmp/ipykernel_39331/237286371.py:3: DeprecationWarning: Starting with ImageIO v3 the behavior of this function will switch to that of iio.v3.imread. To keep the current behavior (and make this warning disappear) use `import imageio.v2 as imageio` or call `imageio.v2.imread` directly.\n",
      "  image = imageio.imread(filename)\n"
     ]
    }
   ],
   "source": [
    "with imageio.get_writer('./animated_demo.gif', mode='I', duration=0.1) as writer:\n",
    "    for filename in sorted_files:\n",
    "        image = imageio.imread(filename)\n",
    "        writer.append_data(image)"
   ]
  },
  {
   "cell_type": "code",
   "execution_count": 8,
   "id": "f16352e9",
   "metadata": {},
   "outputs": [
    {
     "name": "stdout",
     "output_type": "stream",
     "text": [
      "0_0000.png   19_0000.png  29_0000.png  39_0000.png  49_0000.png\r\n",
      "10_0000.png  20_0000.png  30_0000.png  40_0000.png  5_0000.png\r\n",
      "1_0000.png   2_0000.png   3_0000.png   4_0000.png   6_0000.png\r\n",
      "11_0000.png  21_0000.png  31_0000.png  41_0000.png  7_0000.png\r\n",
      "12_0000.png  22_0000.png  32_0000.png  42_0000.png  8_0000.png\r\n",
      "13_0000.png  23_0000.png  33_0000.png  43_0000.png  9_0000.png\r\n",
      "14_0000.png  24_0000.png  34_0000.png  44_0000.png  animated_demo.gif\r\n",
      "15_0000.png  25_0000.png  35_0000.png  45_0000.png  animate.ipynb\r\n",
      "16_0000.png  26_0000.png  36_0000.png  46_0000.png\r\n",
      "17_0000.png  27_0000.png  37_0000.png  47_0000.png\r\n",
      "18_0000.png  28_0000.png  38_0000.png  48_0000.png\r\n"
     ]
    }
   ],
   "source": [
    "!ls"
   ]
  },
  {
   "cell_type": "code",
   "execution_count": null,
   "id": "f3580b95",
   "metadata": {},
   "outputs": [],
   "source": []
  }
 ],
 "metadata": {
  "kernelspec": {
   "display_name": "uproot310",
   "language": "python",
   "name": "uproot310"
  },
  "language_info": {
   "codemirror_mode": {
    "name": "ipython",
    "version": 3
   },
   "file_extension": ".py",
   "mimetype": "text/x-python",
   "name": "python",
   "nbconvert_exporter": "python",
   "pygments_lexer": "ipython3",
   "version": "3.10.13"
  }
 },
 "nbformat": 4,
 "nbformat_minor": 5
}
