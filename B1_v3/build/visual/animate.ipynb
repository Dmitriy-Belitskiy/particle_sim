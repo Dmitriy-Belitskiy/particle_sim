{
 "cells": [
  {
   "cell_type": "code",
   "execution_count": 5,
   "id": "591087e1",
   "metadata": {},
   "outputs": [],
   "source": [
    "import numpy as np\n",
    "import matplotlib.pyplot as plt\n",
    "import uproot\n",
    "from concurrent.futures import ThreadPoolExecutor\n",
    "import os\n",
    "import glob\n",
    "import re\n",
    "from tqdm import tqdm\n",
    "import imageio"
   ]
  },
  {
   "cell_type": "code",
   "execution_count": 6,
   "id": "5a5a77e8",
   "metadata": {},
   "outputs": [],
   "source": [
    "files=glob.glob(\"./*.png\")\n",
    "sorted_files = sorted(files, key=lambda x: int(re.search(r'\\d+', x).group()))"
   ]
  },
  {
   "cell_type": "code",
   "execution_count": 7,
   "id": "1a815244",
   "metadata": {},
   "outputs": [
    {
     "name": "stderr",
     "output_type": "stream",
     "text": [
      "/tmp/ipykernel_4386/237286371.py:3: DeprecationWarning: Starting with ImageIO v3 the behavior of this function will switch to that of iio.v3.imread. To keep the current behavior (and make this warning disappear) use `import imageio.v2 as imageio` or call `imageio.v2.imread` directly.\n",
      "  image = imageio.imread(filename)\n"
     ]
    }
   ],
   "source": [
    "with imageio.get_writer('./animated_demo.gif', mode='I', duration=0.1) as writer:\n",
    "    for filename in sorted_files:\n",
    "        image = imageio.imread(filename)\n",
    "        writer.append_data(image)"
   ]
  },
  {
   "cell_type": "code",
   "execution_count": 8,
   "id": "f16352e9",
   "metadata": {},
   "outputs": [
    {
     "name": "stdout",
     "output_type": "stream",
     "text": [
      "0_0000.png    136_0000.png  174_0000.png  29_0000.png  67_0000.png\r\n",
      "100_0000.png  137_0000.png  175_0000.png  30_0000.png  68_0000.png\r\n",
      "10_0000.png   138_0000.png  176_0000.png  3_0000.png   69_0000.png\r\n",
      "1_0000.png    139_0000.png  177_0000.png  31_0000.png  70_0000.png\r\n",
      "101_0000.png  140_0000.png  178_0000.png  32_0000.png  7_0000.png\r\n",
      "102_0000.png  14_0000.png   179_0000.png  33_0000.png  71_0000.png\r\n",
      "103_0000.png  141_0000.png  180_0000.png  34_0000.png  72_0000.png\r\n",
      "104_0000.png  142_0000.png  18_0000.png   35_0000.png  73_0000.png\r\n",
      "105_0000.png  143_0000.png  181_0000.png  36_0000.png  74_0000.png\r\n",
      "106_0000.png  144_0000.png  182_0000.png  37_0000.png  75_0000.png\r\n",
      "107_0000.png  145_0000.png  183_0000.png  38_0000.png  76_0000.png\r\n",
      "108_0000.png  146_0000.png  184_0000.png  39_0000.png  77_0000.png\r\n",
      "109_0000.png  147_0000.png  185_0000.png  40_0000.png  78_0000.png\r\n",
      "110_0000.png  148_0000.png  186_0000.png  4_0000.png   79_0000.png\r\n",
      "11_0000.png   149_0000.png  187_0000.png  41_0000.png  80_0000.png\r\n",
      "111_0000.png  150_0000.png  188_0000.png  42_0000.png  8_0000.png\r\n",
      "112_0000.png  15_0000.png   189_0000.png  43_0000.png  81_0000.png\r\n",
      "113_0000.png  151_0000.png  190_0000.png  44_0000.png  82_0000.png\r\n",
      "114_0000.png  152_0000.png  19_0000.png   45_0000.png  83_0000.png\r\n",
      "115_0000.png  153_0000.png  191_0000.png  46_0000.png  84_0000.png\r\n",
      "116_0000.png  154_0000.png  192_0000.png  47_0000.png  85_0000.png\r\n",
      "117_0000.png  155_0000.png  193_0000.png  48_0000.png  86_0000.png\r\n",
      "118_0000.png  156_0000.png  194_0000.png  49_0000.png  87_0000.png\r\n",
      "119_0000.png  157_0000.png  195_0000.png  50_0000.png  88_0000.png\r\n",
      "120_0000.png  158_0000.png  196_0000.png  5_0000.png   89_0000.png\r\n",
      "12_0000.png   159_0000.png  197_0000.png  51_0000.png  90_0000.png\r\n",
      "121_0000.png  160_0000.png  198_0000.png  52_0000.png  9_0000.png\r\n",
      "122_0000.png  16_0000.png   199_0000.png  53_0000.png  91_0000.png\r\n",
      "123_0000.png  161_0000.png  200_0000.png  54_0000.png  92_0000.png\r\n",
      "124_0000.png  162_0000.png  20_0000.png   55_0000.png  93_0000.png\r\n",
      "125_0000.png  163_0000.png  2_0000.png\t  56_0000.png  94_0000.png\r\n",
      "126_0000.png  164_0000.png  201_0000.png  57_0000.png  95_0000.png\r\n",
      "127_0000.png  165_0000.png  202_0000.png  58_0000.png  96_0000.png\r\n",
      "128_0000.png  166_0000.png  203_0000.png  59_0000.png  97_0000.png\r\n",
      "129_0000.png  167_0000.png  21_0000.png   60_0000.png  98_0000.png\r\n",
      "130_0000.png  168_0000.png  22_0000.png   6_0000.png   99_0000.png\r\n",
      "13_0000.png   169_0000.png  23_0000.png   61_0000.png  animated_demo_0.gif\r\n",
      "131_0000.png  170_0000.png  24_0000.png   62_0000.png  animated_demo_2.gif\r\n",
      "132_0000.png  17_0000.png   25_0000.png   63_0000.png  animated_demo.gif\r\n",
      "133_0000.png  171_0000.png  26_0000.png   64_0000.png  animate.ipynb\r\n",
      "134_0000.png  172_0000.png  27_0000.png   65_0000.png\r\n",
      "135_0000.png  173_0000.png  28_0000.png   66_0000.png\r\n"
     ]
    }
   ],
   "source": [
    "!ls"
   ]
  },
  {
   "cell_type": "code",
   "execution_count": null,
   "id": "f3580b95",
   "metadata": {},
   "outputs": [],
   "source": []
  },
  {
   "cell_type": "code",
   "execution_count": null,
   "id": "0b62552c",
   "metadata": {},
   "outputs": [],
   "source": []
  },
  {
   "cell_type": "code",
   "execution_count": null,
   "id": "8d255f51",
   "metadata": {},
   "outputs": [],
   "source": []
  }
 ],
 "metadata": {
  "kernelspec": {
   "display_name": "uproot310",
   "language": "python",
   "name": "uproot310"
  },
  "language_info": {
   "codemirror_mode": {
    "name": "ipython",
    "version": 3
   },
   "file_extension": ".py",
   "mimetype": "text/x-python",
   "name": "python",
   "nbconvert_exporter": "python",
   "pygments_lexer": "ipython3",
   "version": "3.10.13"
  }
 },
 "nbformat": 4,
 "nbformat_minor": 5
}
