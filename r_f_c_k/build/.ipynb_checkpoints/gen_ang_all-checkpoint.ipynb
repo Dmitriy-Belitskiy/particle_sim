{
 "cells": [
  {
   "cell_type": "code",
   "execution_count": 14,
   "id": "0527f72e",
   "metadata": {},
   "outputs": [],
   "source": [
    "import numpy as np"
   ]
  },
  {
   "cell_type": "code",
   "execution_count": 15,
   "id": "ab7ffe6d",
   "metadata": {},
   "outputs": [],
   "source": [
    "data=np.loadtxt(\"lines.txt\")"
   ]
  },
  {
   "cell_type": "code",
   "execution_count": 16,
   "id": "0046c27e",
   "metadata": {},
   "outputs": [],
   "source": [
    "sources=np.unique(data[:,0])\n",
    "\n",
    "data_per_source=[]\n",
    "for i in sources:\n",
    "    source=np.where(data[:,0] == i)\n",
    "    data_per_source.append(data[source])\n",
    "    \n",
    "data_per_source_norm=[]\n",
    "for i in data_per_source:\n",
    "    dat_s = np.array(i)\n",
    "    sum_s = np.sum(dat_s[:,2])\n",
    "    if sum_s!=0:\n",
    "        \n",
    "        dat_s[:,2]=dat_s[:,2]/sum_s\n",
    "    \n",
    "    data_per_source_norm.append(dat_s)"
   ]
  },
  {
   "cell_type": "code",
   "execution_count": 20,
   "id": "17855b13",
   "metadata": {},
   "outputs": [],
   "source": [
    "def generate_loop(file,dat):\n",
    "\n",
    "        file.write(\n",
    "        \"\"\"\n",
    "        /analysis/openFile dump/data_root/output_{}_.root\n",
    "        \n",
    "        \"\"\".format(int(dat[0,0])))\n",
    "        #write source data\n",
    "        for number,line,intencity in dat:\n",
    "            file.write(\"\"\"       \n",
    "            /gps/source/add 1\n",
    "            /gps/pos/type Plane\n",
    "            /gps/pos/shape Square\n",
    "            /gps/pos/centre 0 -2 0 m\n",
    "            /gps/pos/halfx 0.004 m\n",
    "            /gps/pos/halfy 0.02 m\n",
    "            /gps/pos/rot1 1 0 0\n",
    "            /gps/pos/rot2 0 0 -1\n",
    "\n",
    "            /gps/direction 0 1 0\n",
    "            /gps/particle gamma\n",
    "            /gps/ene/type Mono\n",
    "            /gps/ene/mono {} MeV\n",
    "            /gps/source/intensity {}\n",
    "            \"\"\".format(line/1000,intencity))\n",
    "        \n",
    "        \n",
    "        for i in range(0,92,2):\n",
    "            file.write(\"\"\"/B5/detector/setRotX {}\n",
    "                    /run/initialize\n",
    "                    /run/beamOn 10000\n",
    "                    /analysis/write\n",
    "                    /analysis/reset\n",
    "                    /gps/source/clear\n",
    "                    \n",
    "        \"\"\".format(i))\n",
    "        \n",
    "        file.write(\"/analysis/closeFile\")"
   ]
  },
  {
   "cell_type": "code",
   "execution_count": 21,
   "id": "d2113273",
   "metadata": {},
   "outputs": [],
   "source": [
    "def generate_macro_file_head(filename=\"hen_all_isotops.mac\"):\n",
    "    with open(filename, \"w\") as f:\n",
    "        # Write the initial part of the macro\n",
    "        f.write(\"\"\"/control/verbose 0\n",
    "        /run/verbose 0\n",
    "        /event/verbose 0\n",
    "        /tracking/verbose 0\n",
    "        /run/printProgress 1000\n",
    "        /run/initialize\n",
    "        /gps/source/clear\n",
    "        \n",
    "        /B5/detector/setPositionX 0\n",
    "        /B5/detector/setPositionY -1\n",
    "        /B5/detector/setPositionZ 0\n",
    "        \n",
    "        \n",
    "        \"\"\")\n",
    "        for i in data_per_source_norm: \n",
    "            generate_loop(f,i)\n",
    "               \n",
    "    "
   ]
  },
  {
   "cell_type": "code",
   "execution_count": 22,
   "id": "9e0772b1",
   "metadata": {},
   "outputs": [],
   "source": [
    "generate_macro_file_head()"
   ]
  },
  {
   "cell_type": "code",
   "execution_count": null,
   "id": "a47b9133",
   "metadata": {},
   "outputs": [],
   "source": []
  },
  {
   "cell_type": "code",
   "execution_count": null,
   "id": "c9e00b7e",
   "metadata": {},
   "outputs": [],
   "source": []
  },
  {
   "cell_type": "code",
   "execution_count": null,
   "id": "4ac08504",
   "metadata": {},
   "outputs": [],
   "source": []
  }
 ],
 "metadata": {
  "kernelspec": {
   "display_name": "uproot310",
   "language": "python",
   "name": "uproot310"
  },
  "language_info": {
   "codemirror_mode": {
    "name": "ipython",
    "version": 3
   },
   "file_extension": ".py",
   "mimetype": "text/x-python",
   "name": "python",
   "nbconvert_exporter": "python",
   "pygments_lexer": "ipython3",
   "version": "3.10.13"
  }
 },
 "nbformat": 4,
 "nbformat_minor": 5
}
