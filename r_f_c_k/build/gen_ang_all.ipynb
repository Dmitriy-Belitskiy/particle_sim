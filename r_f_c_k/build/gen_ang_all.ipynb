{
 "cells": [
  {
   "cell_type": "code",
   "execution_count": 1,
   "id": "0527f72e",
   "metadata": {},
   "outputs": [],
   "source": [
    "import numpy as np"
   ]
  },
  {
   "cell_type": "code",
   "execution_count": 2,
   "id": "ab7ffe6d",
   "metadata": {},
   "outputs": [],
   "source": [
    "data=np.loadtxt(\"lines.txt\")"
   ]
  },
  {
   "cell_type": "code",
   "execution_count": 3,
   "id": "3c714ef7",
   "metadata": {},
   "outputs": [],
   "source": [
    "map_zero=data[:,2]==0\n",
    "\n",
    "map_nonne_zero=data[:,2]!=0\n",
    "map_en_lim=data[:,1]>=20\n",
    "\n",
    "\n",
    "np.count_nonzero(np.logical_and(map_zero,map_en_lim))\n",
    "\n",
    "data_v2=data[np.logical_and(map_nonne_zero,map_en_lim)]"
   ]
  },
  {
   "cell_type": "code",
   "execution_count": 4,
   "id": "70ebf257",
   "metadata": {},
   "outputs": [],
   "source": [
    "sources=np.unique(data_v2[:,0])\n",
    "\n",
    "data_per_source=[]\n",
    "for i in sources:\n",
    "    source=np.where(data_v2[:,0] == i)\n",
    "    data_per_source.append(data_v2[source])\n",
    "    \n",
    "data_per_source_norm=[]\n",
    "for i in data_per_source:\n",
    "    dat_s = np.array(i)\n",
    "    sum_s = np.sum(dat_s[:,2])\n",
    "    if sum_s!=0:\n",
    "        \n",
    "        dat_s[:,2]=dat_s[:,2]/sum_s\n",
    "    \n",
    "    data_per_source_norm.append(dat_s[dat_s[:,2]>0.0001])\n",
    "    \n",
    "    \n",
    "    \n",
    "#data_per_source_norm=data_per_source_norm[1:3]\n"
   ]
  },
  {
   "cell_type": "code",
   "execution_count": 5,
   "id": "ba63896d",
   "metadata": {},
   "outputs": [],
   "source": [
    "def generate_loop(file,dat):\n",
    "\n",
    "        file.write(\n",
    "        \"\"\"\n",
    "        /analysis/openFile dump/data_root/output_{}_.root\n",
    "        /gps/source/clear\n",
    "        \"\"\".format(int(dat[0,0])))\n",
    "        #write source data\n",
    "        for number,line,intencity in dat:\n",
    "            file.write(\"\"\"       \n",
    "            /gps/source/add 1\n",
    "            /gps/pos/type Plane\n",
    "            /gps/pos/shape Square\n",
    "            /gps/pos/centre 0 -2 0 m\n",
    "            /gps/pos/halfx 0.004 m\n",
    "            /gps/pos/halfy 0.02 m\n",
    "            /gps/pos/rot1 1 0 0\n",
    "            /gps/pos/rot2 0 0 -1\n",
    "\n",
    "            /gps/direction 0 1 0\n",
    "            /gps/particle gamma\n",
    "            /gps/ene/type Mono\n",
    "            /gps/ene/mono {:.3f} MeV\n",
    "            /gps/source/intensity {:.5f}\n",
    "            \"\"\".format(line/1000,intencity))\n",
    "        \n",
    "        \n",
    "        for i in range(0,92,2):\n",
    "            file.write(\"\"\"/B5/detector/setRotX {}\n",
    "                    /run/initialize\n",
    "                    /run/beamOn 10000\n",
    "                    /analysis/write\n",
    "                    /analysis/reset\n",
    "                    \n",
    "                    \n",
    "        \"\"\".format(i))\n",
    "        \n",
    "        file.write(\"/analysis/closeFile\")"
   ]
  },
  {
   "cell_type": "code",
   "execution_count": 6,
   "id": "d2113273",
   "metadata": {},
   "outputs": [],
   "source": [
    "def generate_macro_file_head(filename=\"gen_all_isotops.mac\"):\n",
    "    with open(filename, \"w\") as f:\n",
    "        # Write the initial part of the macro\n",
    "        f.write(\"\"\"/control/verbose 0\n",
    "        /run/verbose 0\n",
    "        /event/verbose 0\n",
    "        /tracking/verbose 0\n",
    "        /run/printProgress 1000\n",
    "        /run/initialize\n",
    "        /gps/source/clear\n",
    "        \n",
    "        /B5/detector/setPositionX 0\n",
    "        /B5/detector/setPositionY -1\n",
    "        /B5/detector/setPositionZ 0\n",
    "        \n",
    "        \n",
    "        \"\"\")\n",
    "        for i in data_per_source_norm: \n",
    "            f.write(\"/control/execute scripts/source{}.mac\\n\".format(int(i[0,0])))\n",
    "               \n",
    "    "
   ]
  },
  {
   "cell_type": "code",
   "execution_count": 7,
   "id": "9e0772b1",
   "metadata": {},
   "outputs": [],
   "source": [
    "generate_macro_file_head()"
   ]
  },
  {
   "cell_type": "code",
   "execution_count": 8,
   "id": "98dec251",
   "metadata": {},
   "outputs": [],
   "source": [
    "for i in data_per_source_norm: \n",
    "    \n",
    "        filename = 'scripts/source{}.mac'.format(int(i[0,0]))\n",
    "        with open(filename, \"w\") as f:\n",
    "            generate_loop(f,i)"
   ]
  },
  {
   "cell_type": "code",
   "execution_count": null,
   "id": "9e4f75af",
   "metadata": {},
   "outputs": [],
   "source": []
  },
  {
   "cell_type": "code",
   "execution_count": null,
   "id": "5b0e1fdc",
   "metadata": {},
   "outputs": [],
   "source": []
  },
  {
   "cell_type": "code",
   "execution_count": null,
   "id": "4789e73e",
   "metadata": {},
   "outputs": [],
   "source": []
  },
  {
   "cell_type": "code",
   "execution_count": null,
   "id": "591604ed",
   "metadata": {},
   "outputs": [],
   "source": []
  },
  {
   "cell_type": "code",
   "execution_count": null,
   "id": "dcdac020",
   "metadata": {},
   "outputs": [],
   "source": []
  },
  {
   "cell_type": "code",
   "execution_count": null,
   "id": "948d263f",
   "metadata": {},
   "outputs": [],
   "source": []
  },
  {
   "cell_type": "code",
   "execution_count": null,
   "id": "08351f8c",
   "metadata": {},
   "outputs": [],
   "source": []
  }
 ],
 "metadata": {
  "kernelspec": {
   "display_name": "uproot310",
   "language": "python",
   "name": "uproot310"
  },
  "language_info": {
   "codemirror_mode": {
    "name": "ipython",
    "version": 3
   },
   "file_extension": ".py",
   "mimetype": "text/x-python",
   "name": "python",
   "nbconvert_exporter": "python",
   "pygments_lexer": "ipython3",
   "version": "3.10.13"
  }
 },
 "nbformat": 4,
 "nbformat_minor": 5
}
