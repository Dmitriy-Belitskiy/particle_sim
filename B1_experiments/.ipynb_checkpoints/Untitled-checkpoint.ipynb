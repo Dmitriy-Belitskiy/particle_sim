{
 "cells": [
  {
   "cell_type": "code",
   "execution_count": 1,
   "id": "b397d846",
   "metadata": {},
   "outputs": [],
   "source": [
    "import numpy as np\n",
    "import matplotlib.pyplot as plt\n",
    "import uproot\n",
    "from concurrent.futures import ThreadPoolExecutor\n",
    "import os\n",
    "import glob\n",
    "import re\n",
    "from tqdm import tqdm\n",
    "import imageio\n",
    "\n",
    "import matplotlib.animation as animation"
   ]
  },
  {
   "cell_type": "code",
   "execution_count": null,
   "id": "c79ffdd9",
   "metadata": {},
   "outputs": [],
   "source": [
    "\n",
    "files=glob.glob(\"./build/dump/data_root/*root\")\n",
    "\n",
    "\n",
    "sorted_files = sorted(files, key=lambda x: int(re.search(r'\\d+', x).group()))"
   ]
  }
 ],
 "metadata": {
  "kernelspec": {
   "display_name": "uproot310",
   "language": "python",
   "name": "uproot310"
  },
  "language_info": {
   "codemirror_mode": {
    "name": "ipython",
    "version": 3
   },
   "file_extension": ".py",
   "mimetype": "text/x-python",
   "name": "python",
   "nbconvert_exporter": "python",
   "pygments_lexer": "ipython3",
   "version": "3.10.13"
  }
 },
 "nbformat": 4,
 "nbformat_minor": 5
}
